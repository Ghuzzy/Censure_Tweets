{
  "nbformat": 4,
  "nbformat_minor": 0,
  "metadata": {
    "colab": {
      "name": "Censuring_Tweets.ipynb",
      "provenance": [],
      "collapsed_sections": [],
      "authorship_tag": "ABX9TyN5L2u6HYntuNRizmIiFzMm",
      "include_colab_link": true
    },
    "kernelspec": {
      "name": "python3",
      "display_name": "Python 3"
    },
    "language_info": {
      "name": "python"
    }
  },
  "cells": [
    {
      "cell_type": "markdown",
      "metadata": {
        "id": "view-in-github",
        "colab_type": "text"
      },
      "source": [
        "<a href=\"https://colab.research.google.com/github/Ghuzzy/Censure_Tweets/blob/main/Censuring_Tweets.ipynb\" target=\"_parent\"><img src=\"https://colab.research.google.com/assets/colab-badge.svg\" alt=\"Open In Colab\"/></a>"
      ]
    },
    {
      "cell_type": "markdown",
      "source": [
        "##**Censuring Tweets**\n"
      ],
      "metadata": {
        "id": "eK-1f09o6hmR"
      }
    },
    {
      "cell_type": "markdown",
      "source": [
        "We going to use pandas to import our DataFrame. So, first of all, we need to import it."
      ],
      "metadata": {
        "id": "3xcJdIjv7dXs"
      }
    },
    {
      "cell_type": "code",
      "execution_count": 4,
      "metadata": {
        "id": "dwua-WJFh3xN"
      },
      "outputs": [],
      "source": [
        "import pandas as pd\n",
        "import re"
      ]
    },
    {
      "cell_type": "markdown",
      "source": [
        "Now, we pass the path of the tweets to **url**(We'll need it later). Then create an empty list, which will store the censured tweets. Furthermore, we need to create a list with the curse words we going to **censure**."
      ],
      "metadata": {
        "id": "rhGprqgF8L-T"
      }
    },
    {
      "cell_type": "code",
      "source": [
        "url ='https://raw.githubusercontent.com/trenton3983/DataCamp/master/tweets.csv'\n",
        "tweets_cen = []\n",
        "curse_words = ['fuck', 'ass', 'bitch', 'pussy','dick', 'fucker','asshole','fag','cock','shit','hoe','slut']"
      ],
      "metadata": {
        "id": "F3ZMgOUlj-ic"
      },
      "execution_count": 5,
      "outputs": []
    },
    {
      "cell_type": "markdown",
      "source": [
        "Here we pass the path to the for that will iterate by chunks over the **tweets.csv**. Into the first **for**, the **tweet** will be split in words and stored in a list called **word_separated**. The second **for** will iterate over the **words** in **word_separeted**, analyze if it's a curse word, and censure the word, but first it'll be cleaned from special characters. After iterating over all the **tweets**, the **word_separated** is going to be reduced to a list and assign the result to **new_tweet**, which will be appended to **tweets_cen**."
      ],
      "metadata": {
        "id": "JbVCzVoK-hpn"
      }
    },
    {
      "cell_type": "code",
      "source": [
        "for chunk in pd.read_csv(url, chunksize= 10):      \n",
        "    df_tweets = chunk['text']         \n",
        "    for df_text in df_tweets:          \n",
        "      word_separated = df_text.split()          \n",
        "      for ii, word in enumerate(word_separated):\n",
        "          cleanString = re.sub('\\W+','', word )\n",
        "          if cleanString in curse_words:\n",
        "              word_separated[ii] = '*****'\n",
        "      new_tweet = ' '.join(word_separated)          \n",
        "      tweets_cen.append(new_tweet)"
      ],
      "metadata": {
        "id": "gkGLsiG_6SFy"
      },
      "execution_count": 7,
      "outputs": []
    },
    {
      "cell_type": "markdown",
      "source": [
        "Finally, we have the list with all tweets cleaned. Now it's time to add it to the **DataFrame**. Creating df and passing the tweets.csv to it and then adding a new column called **'Censured'** with **tweets_cen**. Now **print** it to see the result!"
      ],
      "metadata": {
        "id": "ZYoJ8RC9HHG_"
      }
    },
    {
      "cell_type": "code",
      "source": [
        "df = pd.read_csv(url)\n",
        "df['Censured'] = tweets_cen\n",
        "  \n",
        "print(df['text'], df['Censured'])"
      ],
      "metadata": {
        "id": "gYfiqlH06Vw9",
        "colab": {
          "base_uri": "https://localhost:8080/"
        },
        "outputId": "e24db422-59c7-49ef-d582-5f9c3323c3ad"
      },
      "execution_count": 9,
      "outputs": [
        {
          "output_type": "stream",
          "name": "stdout",
          "text": [
            "0     RT @bpolitics: .@krollbondrating's Christopher...\n",
            "1     RT @HeidiAlpine: @dmartosko Cruz video found.....\n",
            "2     Njihuni me Zonjën Trump !!! | Ekskluzive https...\n",
            "3     Your an idiot she shouldn't have tried to grab...\n",
            "4     RT @AlanLohner: The anti-American D.C. elites ...\n",
            "                            ...                        \n",
            "95    RT @claytoncubitt: Stop asking Bernie supporte...\n",
            "96    Kasich is gonna fuck this up for Ted Cruz  htt...\n",
            "97    RT @akaMaude13: Seriously can't make this up. ...\n",
            "98    Kasich is gonna fuck this up for Ted Cruz  htt...\n",
            "99    @marklevinshow try reporting this truth. https...\n",
            "Name: text, Length: 100, dtype: object 0     RT @bpolitics: .@krollbondrating's Christopher...\n",
            "1     RT @HeidiAlpine: @dmartosko Cruz video found.....\n",
            "2     Njihuni me Zonjën Trump !!! | Ekskluzive https...\n",
            "3     Your an idiot she shouldn't have tried to grab...\n",
            "4     RT @AlanLohner: The anti-American D.C. elites ...\n",
            "                            ...                        \n",
            "95    RT @claytoncubitt: Stop asking Bernie supporte...\n",
            "96    Kasich is gonna ***** this up for Ted Cruz htt...\n",
            "97    RT @akaMaude13: Seriously can't make this up. ...\n",
            "98    Kasich is gonna ***** this up for Ted Cruz htt...\n",
            "99    @marklevinshow try reporting this truth. https...\n",
            "Name: Censured, Length: 100, dtype: object\n"
          ]
        }
      ]
    }
  ]
}